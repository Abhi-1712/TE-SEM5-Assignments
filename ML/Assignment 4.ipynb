{
 "cells": [
  {
   "cell_type": "markdown",
   "metadata": {},
   "source": [
    "# Assignment 4\n"
   ]
  },
  {
   "cell_type": "code",
   "execution_count": 13,
   "metadata": {},
   "outputs": [],
   "source": [
    "import chardet\n",
    "import numpy as np\n",
    "import pandas as pd\n",
    "from sklearn.model_selection import train_test_split\n",
    "from sklearn.feature_extraction.text import CountVectorizer\n",
    "from sklearn.naive_bayes import MultinomialNB\n",
    "from sklearn import metrics\n",
    "import matplotlib.pyplot as plt\n"
   ]
  },
  {
   "cell_type": "markdown",
   "metadata": {},
   "source": [
    "---\n",
    "\n",
    "- Checking encoding of dataset\n"
   ]
  },
  {
   "cell_type": "code",
   "execution_count": 2,
   "metadata": {},
   "outputs": [
    {
     "data": {
      "text/plain": [
       "{'encoding': 'Windows-1252', 'confidence': 0.7272080023536335, 'language': ''}"
      ]
     },
     "execution_count": 2,
     "metadata": {},
     "output_type": "execute_result"
    }
   ],
   "source": [
    "with open('./spam.csv', 'rb') as raw_data:\n",
    "    result = chardet.detect(raw_data.read(100000))\n",
    "result\n"
   ]
  },
  {
   "cell_type": "markdown",
   "metadata": {},
   "source": [
    "---\n",
    "\n",
    "- Reading dataset with specified encoding\n"
   ]
  },
  {
   "cell_type": "code",
   "execution_count": 3,
   "metadata": {},
   "outputs": [],
   "source": [
    "sms_df = pd.read_csv('./spam.csv', names=['Class', 'Text'], header=None, encoding='Windows-1252', sep=\"/t\", engine='python')\n",
    "sms_df.drop(0, inplace=True)  # Removing first header row\n"
   ]
  },
  {
   "cell_type": "markdown",
   "metadata": {},
   "source": [
    "---\n",
    "\n",
    "- Splitting column by , to segregate class and text of SMS\n"
   ]
  },
  {
   "cell_type": "code",
   "execution_count": 4,
   "metadata": {},
   "outputs": [],
   "source": [
    "temp_df = sms_df['Class'].str.split(',', n=1, expand=True)\n",
    "sms_df['Class'] = temp_df[0]\n",
    "sms_df['Text'] = temp_df[1]\n"
   ]
  },
  {
   "cell_type": "markdown",
   "metadata": {},
   "source": [
    "---\n",
    "\n",
    "- Applying label encoding to convert 'SPAM'-'HAM' into binary\n"
   ]
  },
  {
   "cell_type": "code",
   "execution_count": 46,
   "metadata": {},
   "outputs": [
    {
     "data": {
      "text/plain": [
       "(array([], dtype=int64),)"
      ]
     },
     "execution_count": 46,
     "metadata": {},
     "output_type": "execute_result"
    }
   ],
   "source": [
    "def convert(a):\n",
    "    return 0 if (a == \"spam\") else 1\n",
    "\n",
    "\n",
    "sms_df['Class'] = sms_df.apply(lambda row: convert(row[0]), axis=1)\n",
    "np.where(sms_df['Class'] != 1 | 0)  # confirming is encoding is done properly\n"
   ]
  },
  {
   "cell_type": "markdown",
   "metadata": {},
   "source": [
    "---\n",
    "\n",
    "- Extracting feature from text using CountVectorizer\n"
   ]
  },
  {
   "cell_type": "code",
   "execution_count": 70,
   "metadata": {},
   "outputs": [
    {
     "name": "stdout",
     "output_type": "stream",
     "text": [
      "  (0, 4260)\t1\n",
      "  (0, 5788)\t1\n",
      "  (0, 2283)\t1\n",
      "  (0, 1278)\t1\n",
      "  (0, 1714)\t1\n",
      "  (0, 3561)\t1\n",
      "  (0, 8296)\t1\n",
      "  (0, 4386)\t1\n",
      "  (0, 1712)\t1\n",
      "  (0, 2006)\t1\n",
      "  (0, 3521)\t1\n",
      "  (0, 1058)\t1\n",
      "  (0, 8095)\t1\n",
      "  (1, 5388)\t1\n",
      "  (1, 4422)\t1\n",
      "  (1, 4229)\t1\n",
      "  (1, 8203)\t1\n",
      "  (1, 5414)\t1\n"
     ]
    }
   ],
   "source": [
    "# Initializing vectorizer object, stop_words parameter in the Counter Vectorizer function to remove the common words\n",
    "vectorizer = CountVectorizer(stop_words='english')\n",
    "# Parsing the training data text into Sparse Matrix of unique strings\n",
    "sms_words_vectors = vectorizer.fit_transform(sms_df['Text'])\n",
    "# print(\"Vocabulary: \", vectorizer.vocabulary_) # Printing the identified Unique words along with their indices\n",
    "# in each message, each word has been labelled a number, and the count of each labelled word is also provided\n",
    "print(sms_words_vectors[:2])\n"
   ]
  },
  {
   "cell_type": "markdown",
   "metadata": {},
   "source": [
    "---\n",
    "\n",
    "- Splitting dataset into Train-Test\n"
   ]
  },
  {
   "cell_type": "code",
   "execution_count": 71,
   "metadata": {},
   "outputs": [],
   "source": [
    "x_train, x_test, y_train, y_test = train_test_split(sms_words_vectors, sms_df['Class'], test_size=0.33, random_state=42)\n"
   ]
  },
  {
   "cell_type": "markdown",
   "metadata": {},
   "source": [
    "---\n",
    "\n",
    "- Applying Multinomial Naive Bayes on the vectors\n"
   ]
  },
  {
   "cell_type": "code",
   "execution_count": 73,
   "metadata": {},
   "outputs": [],
   "source": [
    "model = MultinomialNB().fit(x_train, y_train)\n"
   ]
  },
  {
   "cell_type": "markdown",
   "metadata": {},
   "source": [
    "---\n",
    "\n",
    "- Evaluating the model accuracy\n"
   ]
  },
  {
   "cell_type": "code",
   "execution_count": 87,
   "metadata": {},
   "outputs": [
    {
     "data": {
      "text/plain": [
       "1.0"
      ]
     },
     "execution_count": 87,
     "metadata": {},
     "output_type": "execute_result"
    }
   ],
   "source": [
    "model.score(x_test, y_test)\n"
   ]
  },
  {
   "cell_type": "markdown",
   "metadata": {},
   "source": [
    "---\n",
    "\n",
    "- Using the model to identify given email text\n"
   ]
  },
  {
   "cell_type": "code",
   "execution_count": 86,
   "metadata": {},
   "outputs": [
    {
     "name": "stdout",
     "output_type": "stream",
     "text": [
      "[ Congrats!!! You got a spam O.O ] => [SPAM]\n",
      "[ Hi Naive Bayes sir! ;) ] => [SPAM]\n"
     ]
    }
   ],
   "source": [
    "emails = ['Congrats!!! You got a spam O.O', 'Hi Naive Bayes sir! ;)']\n",
    "# transforming the plain text into vector so that the model can test it numerically\n",
    "vectorized_emails = vectorizer.transform(emails)\n",
    "\n",
    "model_predicted = model.predict(vectorized_emails)\n",
    "\n",
    "for i in range(len(model_predicted)):\n",
    "    print('[ {} ] => [{}]'.format(emails[i], 'SPAM' if (\n",
    "        model_predicted[i] == 1) else 'HAM'))\n"
   ]
  }
 ],
 "metadata": {
  "kernelspec": {
   "display_name": "Python 3.10.1 64-bit",
   "language": "python",
   "name": "python3"
  },
  "language_info": {
   "codemirror_mode": {
    "name": "ipython",
    "version": 3
   },
   "file_extension": ".py",
   "mimetype": "text/x-python",
   "name": "python",
   "nbconvert_exporter": "python",
   "pygments_lexer": "ipython3",
   "version": "3.10.1"
  },
  "orig_nbformat": 4,
  "vscode": {
   "interpreter": {
    "hash": "369f2c481f4da34e4445cda3fffd2e751bd1c4d706f27375911949ba6bb62e1c"
   }
  }
 },
 "nbformat": 4,
 "nbformat_minor": 2
}
